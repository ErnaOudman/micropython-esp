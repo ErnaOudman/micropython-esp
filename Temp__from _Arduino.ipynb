{
 "cells": [
  {
   "cell_type": "code",
   "execution_count": 28,
   "metadata": {},
   "outputs": [],
   "source": [
    "import serial\n",
    "from datetime import datetime"
   ]
  },
  {
   "cell_type": "code",
   "execution_count": null,
   "metadata": {},
   "outputs": [],
   "source": []
  },
  {
   "cell_type": "code",
   "execution_count": 8,
   "metadata": {},
   "outputs": [],
   "source": [
    "port='COM4'\n",
    "ser = serial.Serial(port)"
   ]
  },
  {
   "cell_type": "code",
   "execution_count": 11,
   "metadata": {},
   "outputs": [
    {
     "data": {
      "text/plain": [
       "b' Requesting temperatures...DONE\\r\\nTemperature is: 26.56 Requesting temperatures...DONE\\r\\nTemperature is: 26.56 Requesting temperatures...DONE\\r\\nTemperature is: 26.62 Requesting temperatures...DONE\\r\\nTemperature is: 26.69 Requesting temperatures...DONE\\r\\nTemperature is: 26.50 Requesting temperatures...DONE\\r\\nTemperature is: 26.50 Requesting temperatures...DONE\\r\\nTemperature is: 26.50 Requesting temperatures...DONE\\r\\nTemperature is: 26.56 Requesting temperatures...DONE\\r\\nTemperature is: 26.50 Requesting temperatures...DONE\\r\\nTemperature is: 26.62 Requesting temperatures...DONE\\r\\nTemperature is: 26.00 Requesting temperatures...DONE\\r\\nTemperature is: 26.62 Requesting temperatures...DONE\\r\\nTemperature is: 26.56 Requesting temperatures...DONE\\r\\nTemperature is: 26.12 Requesting temperatures...DONE\\r\\nTemperature is: 26.62 Requesting temperatures...DONE\\r\\nTemperature is: 26.56'"
      ]
     },
     "execution_count": 11,
     "metadata": {},
     "output_type": "execute_result"
    }
   ],
   "source": [
    "ser.read_all()"
   ]
  },
  {
   "cell_type": "code",
   "execution_count": 30,
   "metadata": {},
   "outputs": [],
   "source": [
    "import pandas as pd\n",
    "import time"
   ]
  },
  {
   "cell_type": "code",
   "execution_count": 49,
   "metadata": {},
   "outputs": [
    {
     "data": {
      "text/plain": [
       "RangeIndex(start=0, stop=2, step=1)"
      ]
     },
     "execution_count": 49,
     "metadata": {},
     "output_type": "execute_result"
    }
   ],
   "source": [
    "df.columns"
   ]
  },
  {
   "cell_type": "code",
   "execution_count": 41,
   "metadata": {},
   "outputs": [],
   "source": [
    "time_temp = []\n",
    "for i in range(25):\n",
    "    temp = float(str(ser.readline()).split(':')[1].split(' ')[1])\n",
    "    time_temp.append((temp, datetime.now()))\n",
    "    time.sleep(1)"
   ]
  },
  {
   "cell_type": "code",
   "execution_count": 42,
   "metadata": {},
   "outputs": [
    {
     "data": {
      "text/plain": [
       "[(26.62, datetime.datetime(2018, 8, 26, 12, 24, 1, 109977)),\n",
       " (26.75, datetime.datetime(2018, 8, 26, 12, 24, 2, 113532)),\n",
       " (26.81, datetime.datetime(2018, 8, 26, 12, 24, 3, 115370)),\n",
       " (26.81, datetime.datetime(2018, 8, 26, 12, 24, 4, 117797)),\n",
       " (26.75, datetime.datetime(2018, 8, 26, 12, 24, 5, 119978)),\n",
       " (26.12, datetime.datetime(2018, 8, 26, 12, 24, 6, 122247)),\n",
       " (26.87, datetime.datetime(2018, 8, 26, 12, 24, 7, 125203)),\n",
       " (26.75, datetime.datetime(2018, 8, 26, 12, 24, 8, 127575)),\n",
       " (26.69, datetime.datetime(2018, 8, 26, 12, 24, 9, 129902)),\n",
       " (26.81, datetime.datetime(2018, 8, 26, 12, 24, 10, 131983)),\n",
       " (26.75, datetime.datetime(2018, 8, 26, 12, 24, 11, 134225)),\n",
       " (26.75, datetime.datetime(2018, 8, 26, 12, 24, 12, 136990)),\n",
       " (26.81, datetime.datetime(2018, 8, 26, 12, 24, 13, 139360)),\n",
       " (26.12, datetime.datetime(2018, 8, 26, 12, 24, 14, 142686)),\n",
       " (26.81, datetime.datetime(2018, 8, 26, 12, 24, 15, 145666)),\n",
       " (26.06, datetime.datetime(2018, 8, 26, 12, 24, 16, 147809)),\n",
       " (26.69, datetime.datetime(2018, 8, 26, 12, 24, 17, 150113)),\n",
       " (26.75, datetime.datetime(2018, 8, 26, 12, 24, 18, 152389)),\n",
       " (26.75, datetime.datetime(2018, 8, 26, 12, 24, 19, 155720)),\n",
       " (26.75, datetime.datetime(2018, 8, 26, 12, 24, 20, 158687)),\n",
       " (26.75, datetime.datetime(2018, 8, 26, 12, 24, 21, 162032)),\n",
       " (26.75, datetime.datetime(2018, 8, 26, 12, 24, 22, 163952)),\n",
       " (26.75, datetime.datetime(2018, 8, 26, 12, 24, 23, 166194)),\n",
       " (26.75, datetime.datetime(2018, 8, 26, 12, 24, 24, 169214)),\n",
       " (26.75, datetime.datetime(2018, 8, 26, 12, 24, 25, 171208))]"
      ]
     },
     "execution_count": 42,
     "metadata": {},
     "output_type": "execute_result"
    }
   ],
   "source": [
    "time_temp"
   ]
  },
  {
   "cell_type": "code",
   "execution_count": 61,
   "metadata": {},
   "outputs": [],
   "source": [
    "df = pd.DataFrame(time_temp)\n",
    "df.columns = ['temp', 'time']"
   ]
  },
  {
   "cell_type": "code",
   "execution_count": 62,
   "metadata": {},
   "outputs": [],
   "source": [
    "df['time']  = df['time'].apply(lambda x : pd.to_datetime(x))"
   ]
  },
  {
   "cell_type": "code",
   "execution_count": 65,
   "metadata": {},
   "outputs": [
    {
     "data": {
      "text/plain": [
       "<matplotlib.axes._subplots.AxesSubplot at 0x18e8329bb70>"
      ]
     },
     "execution_count": 65,
     "metadata": {},
     "output_type": "execute_result"
    },
    {
     "data": {
      "image/png": "[encoded data removed]",
      "text/plain": [
       "<Figure size 432x288 with 1 Axes>"
      ]
     },
     "metadata": {},
     "output_type": "display_data"
    }
   ],
   "source": [
    "df['temp'].plot()"
   ]
  },
  {
   "cell_type": "code",
   "execution_count": 47,
   "metadata": {},
   "outputs": [
    {
     "name": "stderr",
     "output_type": "stream",
     "text": [
      "C:\\Users\\ernao\\Anaconda3\\lib\\site-packages\\ipykernel_launcher.py:1: UserWarning: Pandas doesn't allow columns to be created via a new attribute name - see https://pandas.pydata.org/pandas-docs/stable/indexing.html#attribute-access\n",
      "  \"\"\"Entry point for launching an IPython kernel.\n"
     ]
    }
   ],
   "source": [
    "df.time = pd.to_datetime(df[1], format='%Y-%m-%d %H:%M:%S.%f')"
   ]
  },
  {
   "cell_type": "code",
   "execution_count": 43,
   "metadata": {},
   "outputs": [],
   "source": [
    "import matplotlib as mp"
   ]
  },
  {
   "cell_type": "code",
   "execution_count": 13,
   "metadata": {},
   "outputs": [
    {
     "data": {
      "text/plain": [
       "<bound method Serial.read of Serial<id=0x18eff7d84e0, open=True>(port='COM4', baudrate=9600, bytesize=8, parity='N', stopbits=1, timeout=None, xonxoff=False, rtscts=False, dsrdtr=False)>"
      ]
     },
     "execution_count": 13,
     "metadata": {},
     "output_type": "execute_result"
    }
   ],
   "source": [
    "ser.read"
   ]
  },
  {
   "cell_type": "code",
   "execution_count": 14,
   "metadata": {},
   "outputs": [
    {
     "data": {
      "text/plain": [
       "b'g temperatures...DONE\\r\\n'"
      ]
     },
     "execution_count": 14,
     "metadata": {},
     "output_type": "execute_result"
    }
   ],
   "source": [
    "ser.readline()"
   ]
  },
  {
   "cell_type": "code",
   "execution_count": 15,
   "metadata": {},
   "outputs": [
    {
     "data": {
      "text/plain": [
       "<bound method Serial.read of Serial<id=0x18eff7d84e0, open=True>(port='COM4', baudrate=9600, bytesize=8, parity='N', stopbits=1, timeout=None, xonxoff=False, rtscts=False, dsrdtr=False)>"
      ]
     },
     "execution_count": 15,
     "metadata": {},
     "output_type": "execute_result"
    }
   ],
   "source": [
    "ser.read"
   ]
  },
  {
   "cell_type": "code",
   "execution_count": 18,
   "metadata": {},
   "outputs": [
    {
     "data": {
      "text/plain": [
       "b'Temperature is: 26.56 Requesting temperatures...DONE\\r\\n'"
      ]
     },
     "execution_count": 18,
     "metadata": {},
     "output_type": "execute_result"
    }
   ],
   "source": [
    "ser.readline()"
   ]
  },
  {
   "cell_type": "code",
   "execution_count": null,
   "metadata": {},
   "outputs": [],
   "source": []
  }
 ],
 "metadata": {
  "kernelspec": {
   "display_name": "Python 3",
   "language": "python",
   "name": "python3"
  },
  "language_info": {
   "codemirror_mode": {
    "name": "ipython",
    "version": 3
   },
   "file_extension": ".py",
   "mimetype": "text/x-python",
   "name": "python",
   "nbconvert_exporter": "python",
   "pygments_lexer": "ipython3",
   "version": "3.6.5"
  }
 },
 "nbformat": 4,
 "nbformat_minor": 2
}
